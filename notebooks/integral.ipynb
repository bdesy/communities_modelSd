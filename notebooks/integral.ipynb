{
 "cells": [
  {
   "cell_type": "code",
   "execution_count": 14,
   "id": "russian-shareware",
   "metadata": {},
   "outputs": [],
   "source": [
    "import numpy as np\n",
    "import matplotlib.pyplot as plt\n",
    "import sys\n",
    "sys.path.insert(0, '../src/')\n",
    "from hyperbolic_random_graphs import *\n",
    "from math import factorial\n",
    "from scipy.special import gamma\n",
    "from scipy.integrate import quad\n",
    "\n",
    "def connection_prob(Dtheta, kappa_i, kappa_j, D, beta, R=1, mu=1):\n",
    "    chi = R * Dtheta\n",
    "    chi /= (mu * kappa_i * kappa_j)**(1./D)\n",
    "    return 1./(1 + chi**beta)\n",
    "\n",
    "def angular_prob(Dtheta, D):\n",
    "    a = gamma((D+1)/2) / gamma(D/2)\n",
    "    b = np.sin(Dtheta)**(D-1)\n",
    "    return a*b/np.sqrt(np.pi)\n",
    "\n",
    "def integrand(Dtheta, kappa_i, kappa_j, D, beta, R=1, mu=1):\n",
    "    a = connection_prob(Dtheta, kappa_i, kappa_j, D, beta, R, mu)\n",
    "    b = angular_prob(Dtheta, D)\n",
    "    return a*b\n",
    "\n",
    "def integrated_connection_prob(kappa_i, kappa_j, D, beta, R=1, mu=1):\n",
    "    args = (kappa_i, kappa_j, D, beta, R, mu)\n",
    "    return quad(integrand, 0, np.pi, args=args)\n",
    "\n",
    "def bfk_term(n, m, a, b):\n",
    "    t = a**(-2*n-2) * (-1)**m / (b*m + 2*n +2)\n",
    "    tt = np.pi**(-b*(m+1) + 2*n + 2) * (-1)**m / ((-b*(m+1) + 2*n + 2) * a**(b*(m+1)))\n",
    "    ttt = a**(-2*n-2) * (-1)**m / (-b*(m+1) + 2*n + 2)\n",
    "    out = (t + tt - ttt)*(-1)**n\n",
    "    return out / factorial(2*n + 1)\n",
    "\n",
    "def alpha(R, kappa_i, kappa_j, mu, D):\n",
    "    denum = (mu*kappa_i*kappa_j)**(1./D)\n",
    "    return R / denum"
   ]
  },
  {
   "cell_type": "code",
   "execution_count": 104,
   "id": "different-running",
   "metadata": {},
   "outputs": [
    {
     "name": "stdout",
     "output_type": "stream",
     "text": [
      "0.03544907701811033\n",
      "2 sum is  0.00033264032987410664\n",
      "int is 0.0003357800119689931 3.3600329117950832e-12\n"
     ]
    },
    {
     "data": {
      "text/plain": [
       "0.03544907701811033"
      ]
     },
     "execution_count": 104,
     "metadata": {},
     "output_type": "execute_result"
    }
   ],
   "source": [
    "kappa_i, kappa_j = 1., 1.\n",
    "beta = 10.\n",
    "mu = 0.1\n",
    "D = 2\n",
    "R = compute_radius(1000, D)\n",
    "a = alpha(R, kappa_i, kappa_j, mu, D)\n",
    "print(1/a)\n",
    "\n",
    "n,m = 4, 20\n",
    "S = 0\n",
    "for i in range(n):\n",
    "    for j in range(m):\n",
    "        S += bfk_term(i, j, a, beta)\n",
    "        \n",
    "denum, error = integrated_connection_prob(kappa_i, kappa_j, D, beta, R=R, mu=mu)\n",
    "print(D, 'sum is ', S/2)\n",
    "print('int is', denum, error)\n",
    "1/a"
   ]
  },
  {
   "cell_type": "code",
   "execution_count": 105,
   "id": "funky-article",
   "metadata": {},
   "outputs": [
    {
     "name": "stdout",
     "output_type": "stream",
     "text": [
      "0.0003357800108032326 3.258053990224205e-25\n"
     ]
    }
   ],
   "source": [
    "def integrand2(Dtheta, kappa_i, kappa_j, D, beta, R, mu, n):\n",
    "    denum = 1 + (R*Dtheta / (mu*kappa_i*kappa_j)**(1./D) )**beta\n",
    "    return Dtheta**(2*n + 1) / denum\n",
    "S2 = 0\n",
    "for n in range(10):\n",
    "    int2, error = quad(integrand2, 0, np.pi, args=((kappa_i, kappa_j, D, beta, R, mu, n)))\n",
    "    S2 += (-1)**n / factorial(2*n + 1) * int2\n",
    "print(S2/2, error)"
   ]
  },
  {
   "cell_type": "code",
   "execution_count": 106,
   "id": "alternative-thermal",
   "metadata": {},
   "outputs": [
    {
     "name": "stdout",
     "output_type": "stream",
     "text": [
      "0.00033823870006128215\n"
     ]
    }
   ],
   "source": [
    "a = alpha(R, kappa_i, kappa_j, mu, D)\n",
    "def integrand3i(Dtheta, a, b, n, m):\n",
    "    return Dtheta**(2*n + 1) * (-(a*Dtheta)**b)**m\n",
    "\n",
    "def integrand3ii(Dtheta, a, b, n, m):\n",
    "    return Dtheta**(2*n + 1) * (-1./(a*Dtheta)**b)**m / (a*Dtheta)**b\n",
    "\n",
    "S3 = 0\n",
    "for n in range(20):\n",
    "    for m in range(100):\n",
    "        int3i, erri = quad(integrand3i, 0, 1./a, args=(a, beta, n, m))\n",
    "        int3ii, errii = quad(integrand3ii, 1./a, np.pi, args=(a, beta, n, m))\n",
    "        #print(erri, errii, n , m)\n",
    "        S3 += (-1)**n / factorial(2*n + 1) * (int3i + int3ii)\n",
    "print(S3/2)"
   ]
  },
  {
   "cell_type": "code",
   "execution_count": 107,
   "id": "powerful-earth",
   "metadata": {},
   "outputs": [
    {
     "name": "stdout",
     "output_type": "stream",
     "text": [
      "0.00033578001201725344\n"
     ]
    }
   ],
   "source": [
    "def integrand4i(Dtheta, a, b, n, m):\n",
    "    s = 0 \n",
    "    for ell in range(m):\n",
    "        s += (-(a*Dtheta)**b)**ell\n",
    "    return s * Dtheta**(2*n + 1)\n",
    "\n",
    "def integrand4ii(Dtheta, a, b, n, m):\n",
    "    s = 0 \n",
    "    for ell in range(m):\n",
    "        s += (-1./(a*Dtheta)**b)**ell\n",
    "    return s * Dtheta**(2*n + 1) / (a*Dtheta)**b\n",
    "\n",
    "S4 = 0 \n",
    "m=1000\n",
    "for n in range(20):\n",
    "    int4i, erri = quad(integrand4i, 0, 1./a, args=(a, beta, n, m))\n",
    "    int4ii, errii = quad(integrand4ii, 1./a, np.pi, args=(a, beta, n, m))\n",
    "    S4 += (-1)**n / factorial(2*n + 1) * (int4i + int4ii)\n",
    "    #print(erri, errii)\n",
    "print(S4/2)"
   ]
  },
  {
   "cell_type": "code",
   "execution_count": 108,
   "id": "dominican-detective",
   "metadata": {},
   "outputs": [
    {
     "data": {
      "image/png": "[encoded data removed]",
      "text/plain": [
       "<Figure size 432x288 with 1 Axes>"
      ]
     },
     "metadata": {
      "needs_background": "light"
     },
     "output_type": "display_data"
    },
    {
     "name": "stdout",
     "output_type": "stream",
     "text": [
      "0.03544907701811033\n"
     ]
    }
   ],
   "source": [
    "x_axi = np.linspace(0, 1./a, 1000)\n",
    "x_axii = np.linspace(1./a, np.pi, 1000)\n",
    "plt.plot(x_axi,  (a*x_axi), label='pre 1/a')\n",
    "plt.plot(x_axii, 1./(a*x_axii), label='post 1/a')\n",
    "plt.legend()\n",
    "plt.show()\n",
    "print(1/a)"
   ]
  },
  {
   "cell_type": "code",
   "execution_count": 111,
   "id": "about-vegetarian",
   "metadata": {},
   "outputs": [
    {
     "name": "stdout",
     "output_type": "stream",
     "text": [
      "0.0003295086777295849\n"
     ]
    }
   ],
   "source": [
    "def integrand5i(Dtheta, a, b, n, m):\n",
    "    return (-1)**m * a**(b*m) * Dtheta**(b*m + 2*n + 1)\n",
    "\n",
    "def integrand5ii(Dtheta, a, b, n, m):\n",
    "    return (-1)**m * a**(-b*(m+1)) * Dtheta**(-b*(m+1) + 2*n + 1)\n",
    "\n",
    "S5 = 0 \n",
    "#print(1/a)\n",
    "for n in range(10):\n",
    "    for m in range(10):\n",
    "        int5i, erri = quad(integrand5i, 0, 1./a, args=(a, beta, n, m))\n",
    "        int5ii, errii = quad(integrand5ii, 1./a, np.pi, args=(a, beta, n, m))\n",
    "        S5 += (-1)**n / factorial(2*n + 1) * (int5i + int5ii)\n",
    "        #print(erri, errii)\n",
    "print(S5/2)"
   ]
  },
  {
   "cell_type": "code",
   "execution_count": 112,
   "id": "certified-center",
   "metadata": {},
   "outputs": [
    {
     "name": "stdout",
     "output_type": "stream",
     "text": [
      "0.00034060767569498915\n"
     ]
    }
   ],
   "source": [
    "S6=0\n",
    "for n in range(3):\n",
    "    for m in range(13):\n",
    "        i6 = (-1)**m * a**(beta*m) * a**(-beta*m -2*n -2) / (beta*m +2*n +2)\n",
    "        ii6 = (-1)**m * (np.pi**(-beta*(m+1)+2*n+2) - a**(beta*(m+1)-2*n-2) )\n",
    "        ii6 /= a**(beta*(m+1))\n",
    "        ii6 /= (-beta*(m+1) + 2*n +2)\n",
    "        S6 += (-1)**n / factorial(2*n + 1) * (i6 + ii6)\n",
    "print(S6/2)"
   ]
  },
  {
   "cell_type": "code",
   "execution_count": null,
   "id": "thick-bruce",
   "metadata": {},
   "outputs": [],
   "source": []
  }
 ],
 "metadata": {
  "kernelspec": {
   "display_name": "Python 3",
   "language": "python",
   "name": "python3"
  },
  "language_info": {
   "codemirror_mode": {
    "name": "ipython",
    "version": 3
   },
   "file_extension": ".py",
   "mimetype": "text/x-python",
   "name": "python",
   "nbconvert_exporter": "python",
   "pygments_lexer": "ipython3",
   "version": "3.9.2"
  }
 },
 "nbformat": 4,
 "nbformat_minor": 5
}
